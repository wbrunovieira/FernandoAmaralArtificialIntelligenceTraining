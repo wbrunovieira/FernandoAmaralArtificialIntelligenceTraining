{
  "nbformat": 4,
  "nbformat_minor": 0,
  "metadata": {
    "colab": {
      "provenance": []
    },
    "kernelspec": {
      "name": "python3",
      "display_name": "Python 3"
    },
    "language_info": {
      "name": "python"
    }
  },
  "cells": [
    {
      "cell_type": "code",
      "execution_count": null,
      "metadata": {
        "id": "cOgPX-KERuwW",
        "colab": {
          "base_uri": "https://localhost:8080/"
        },
        "outputId": "a9529732-177f-42f6-c5b2-aad987e2a100"
      },
      "outputs": [
        {
          "output_type": "stream",
          "name": "stdout",
          "text": [
            "Requirement already satisfied: scikit-multilearn in /usr/local/lib/python3.10/dist-packages (0.2.0)\n"
          ]
        }
      ],
      "source": [
        "!pip install scikit-multilearn"
      ]
    },
    {
      "cell_type": "code",
      "source": [
        "from skmultilearn.adapt import MLARAM\n",
        "\n",
        "from skmultilearn.problem_transform import BinaryRelevance, ClassifierChain, LabelPowerset\n",
        "from sklearn.svm import SVC\n",
        "\n",
        "from sklearn.model_selection import train_test_split\n",
        "from sklearn.metrics import hamming_loss\n",
        "import pandas as pd"
      ],
      "metadata": {
        "id": "xvM_9RorSZBo"
      },
      "execution_count": null,
      "outputs": []
    },
    {
      "cell_type": "code",
      "source": [
        "musica = pd.read_csv(\"Musica.csv\")\n",
        "musica.shape"
      ],
      "metadata": {
        "colab": {
          "base_uri": "https://localhost:8080/"
        },
        "id": "BObY56ndTUJU",
        "outputId": "522c3c63-1f51-4fe9-c422-4bc2a4e81b1a"
      },
      "execution_count": null,
      "outputs": [
        {
          "output_type": "execute_result",
          "data": {
            "text/plain": [
              "(592, 77)"
            ]
          },
          "metadata": {},
          "execution_count": 3
        }
      ]
    },
    {
      "cell_type": "code",
      "source": [
        "musica.head()"
      ],
      "metadata": {
        "colab": {
          "base_uri": "https://localhost:8080/",
          "height": 317
        },
        "id": "6LFd53jhTyiP",
        "outputId": "d21fa755-c05d-4710-cd34-2bda01249d8d"
      },
      "execution_count": null,
      "outputs": [
        {
          "output_type": "execute_result",
          "data": {
            "text/plain": [
              "   amazed-suprised  happy-pleased  relaxing-clam  quiet-still  sad-lonely  \\\n",
              "0                0              1              1            0           0   \n",
              "1                1              0              0            0           0   \n",
              "2                0              1              0            0           0   \n",
              "3                0              0              1            0           0   \n",
              "4                0              0              0            1           0   \n",
              "\n",
              "   angry-aggresive  Mean_Acc1298_Mean_Mem40_Centroid  \\\n",
              "0                0                          0.132498   \n",
              "1                1                          0.384281   \n",
              "2                1                          0.541782   \n",
              "3                0                          0.174288   \n",
              "4                0                          0.347436   \n",
              "\n",
              "   Mean_Acc1298_Mean_Mem40_Rolloff  Mean_Acc1298_Mean_Mem40_Flux  \\\n",
              "0                         0.077848                      0.229227   \n",
              "1                         0.355249                      0.167190   \n",
              "2                         0.356491                      0.152246   \n",
              "3                         0.243935                      0.254326   \n",
              "4                         0.155448                      0.100047   \n",
              "\n",
              "   Mean_Acc1298_Mean_Mem40_MFCC_0  ...  Std_Acc1298_Std_Mem40_MFCC_10  \\\n",
              "0                        0.602629  ...                       0.197026   \n",
              "1                        0.853089  ...                       0.093526   \n",
              "2                        0.791142  ...                       0.198082   \n",
              "3                        0.438987  ...                       0.235793   \n",
              "4                        0.126026  ...                       0.715683   \n",
              "\n",
              "   Std_Acc1298_Std_Mem40_MFCC_11  Std_Acc1298_Std_Mem40_MFCC_12  \\\n",
              "0                       0.196244                       0.164323   \n",
              "1                       0.085649                       0.025101   \n",
              "2                       0.108067                       0.140574   \n",
              "3                       0.220195                       0.235834   \n",
              "4                       0.573359                       0.412368   \n",
              "\n",
              "   BH_LowPeakAmp  BH_LowPeakBPM  BH_HighPeakAmp  BH_HighPeakBPM    BHSUM1  \\\n",
              "0       0.030017       0.253968        0.008473        0.240602  0.136735   \n",
              "1       0.182955       0.285714        0.156764        0.270677  0.191377   \n",
              "2       0.099303       0.142857        0.000000        0.593985  0.105114   \n",
              "3       0.024988       0.222222        0.117169        0.210526  0.057288   \n",
              "4       0.016398       0.761905        0.081703        0.721805  0.108737   \n",
              "\n",
              "     BHSUM2    BHSUM3  \n",
              "0  0.058442  0.107594  \n",
              "1  0.153728  0.197951  \n",
              "2  0.025555  0.122965  \n",
              "3  0.134575  0.091509  \n",
              "4  0.172882  0.189934  \n",
              "\n",
              "[5 rows x 77 columns]"
            ],
            "text/html": [
              "\n",
              "\n",
              "  <div id=\"df-04ee18a6-8fd9-4364-aff0-907925d0fbce\">\n",
              "    <div class=\"colab-df-container\">\n",
              "      <div>\n",
              "<style scoped>\n",
              "    .dataframe tbody tr th:only-of-type {\n",
              "        vertical-align: middle;\n",
              "    }\n",
              "\n",
              "    .dataframe tbody tr th {\n",
              "        vertical-align: top;\n",
              "    }\n",
              "\n",
              "    .dataframe thead th {\n",
              "        text-align: right;\n",
              "    }\n",
              "</style>\n",
              "<table border=\"1\" class=\"dataframe\">\n",
              "  <thead>\n",
              "    <tr style=\"text-align: right;\">\n",
              "      <th></th>\n",
              "      <th>amazed-suprised</th>\n",
              "      <th>happy-pleased</th>\n",
              "      <th>relaxing-clam</th>\n",
              "      <th>quiet-still</th>\n",
              "      <th>sad-lonely</th>\n",
              "      <th>angry-aggresive</th>\n",
              "      <th>Mean_Acc1298_Mean_Mem40_Centroid</th>\n",
              "      <th>Mean_Acc1298_Mean_Mem40_Rolloff</th>\n",
              "      <th>Mean_Acc1298_Mean_Mem40_Flux</th>\n",
              "      <th>Mean_Acc1298_Mean_Mem40_MFCC_0</th>\n",
              "      <th>...</th>\n",
              "      <th>Std_Acc1298_Std_Mem40_MFCC_10</th>\n",
              "      <th>Std_Acc1298_Std_Mem40_MFCC_11</th>\n",
              "      <th>Std_Acc1298_Std_Mem40_MFCC_12</th>\n",
              "      <th>BH_LowPeakAmp</th>\n",
              "      <th>BH_LowPeakBPM</th>\n",
              "      <th>BH_HighPeakAmp</th>\n",
              "      <th>BH_HighPeakBPM</th>\n",
              "      <th>BHSUM1</th>\n",
              "      <th>BHSUM2</th>\n",
              "      <th>BHSUM3</th>\n",
              "    </tr>\n",
              "  </thead>\n",
              "  <tbody>\n",
              "    <tr>\n",
              "      <th>0</th>\n",
              "      <td>0</td>\n",
              "      <td>1</td>\n",
              "      <td>1</td>\n",
              "      <td>0</td>\n",
              "      <td>0</td>\n",
              "      <td>0</td>\n",
              "      <td>0.132498</td>\n",
              "      <td>0.077848</td>\n",
              "      <td>0.229227</td>\n",
              "      <td>0.602629</td>\n",
              "      <td>...</td>\n",
              "      <td>0.197026</td>\n",
              "      <td>0.196244</td>\n",
              "      <td>0.164323</td>\n",
              "      <td>0.030017</td>\n",
              "      <td>0.253968</td>\n",
              "      <td>0.008473</td>\n",
              "      <td>0.240602</td>\n",
              "      <td>0.136735</td>\n",
              "      <td>0.058442</td>\n",
              "      <td>0.107594</td>\n",
              "    </tr>\n",
              "    <tr>\n",
              "      <th>1</th>\n",
              "      <td>1</td>\n",
              "      <td>0</td>\n",
              "      <td>0</td>\n",
              "      <td>0</td>\n",
              "      <td>0</td>\n",
              "      <td>1</td>\n",
              "      <td>0.384281</td>\n",
              "      <td>0.355249</td>\n",
              "      <td>0.167190</td>\n",
              "      <td>0.853089</td>\n",
              "      <td>...</td>\n",
              "      <td>0.093526</td>\n",
              "      <td>0.085649</td>\n",
              "      <td>0.025101</td>\n",
              "      <td>0.182955</td>\n",
              "      <td>0.285714</td>\n",
              "      <td>0.156764</td>\n",
              "      <td>0.270677</td>\n",
              "      <td>0.191377</td>\n",
              "      <td>0.153728</td>\n",
              "      <td>0.197951</td>\n",
              "    </tr>\n",
              "    <tr>\n",
              "      <th>2</th>\n",
              "      <td>0</td>\n",
              "      <td>1</td>\n",
              "      <td>0</td>\n",
              "      <td>0</td>\n",
              "      <td>0</td>\n",
              "      <td>1</td>\n",
              "      <td>0.541782</td>\n",
              "      <td>0.356491</td>\n",
              "      <td>0.152246</td>\n",
              "      <td>0.791142</td>\n",
              "      <td>...</td>\n",
              "      <td>0.198082</td>\n",
              "      <td>0.108067</td>\n",
              "      <td>0.140574</td>\n",
              "      <td>0.099303</td>\n",
              "      <td>0.142857</td>\n",
              "      <td>0.000000</td>\n",
              "      <td>0.593985</td>\n",
              "      <td>0.105114</td>\n",
              "      <td>0.025555</td>\n",
              "      <td>0.122965</td>\n",
              "    </tr>\n",
              "    <tr>\n",
              "      <th>3</th>\n",
              "      <td>0</td>\n",
              "      <td>0</td>\n",
              "      <td>1</td>\n",
              "      <td>0</td>\n",
              "      <td>0</td>\n",
              "      <td>0</td>\n",
              "      <td>0.174288</td>\n",
              "      <td>0.243935</td>\n",
              "      <td>0.254326</td>\n",
              "      <td>0.438987</td>\n",
              "      <td>...</td>\n",
              "      <td>0.235793</td>\n",
              "      <td>0.220195</td>\n",
              "      <td>0.235834</td>\n",
              "      <td>0.024988</td>\n",
              "      <td>0.222222</td>\n",
              "      <td>0.117169</td>\n",
              "      <td>0.210526</td>\n",
              "      <td>0.057288</td>\n",
              "      <td>0.134575</td>\n",
              "      <td>0.091509</td>\n",
              "    </tr>\n",
              "    <tr>\n",
              "      <th>4</th>\n",
              "      <td>0</td>\n",
              "      <td>0</td>\n",
              "      <td>0</td>\n",
              "      <td>1</td>\n",
              "      <td>0</td>\n",
              "      <td>0</td>\n",
              "      <td>0.347436</td>\n",
              "      <td>0.155448</td>\n",
              "      <td>0.100047</td>\n",
              "      <td>0.126026</td>\n",
              "      <td>...</td>\n",
              "      <td>0.715683</td>\n",
              "      <td>0.573359</td>\n",
              "      <td>0.412368</td>\n",
              "      <td>0.016398</td>\n",
              "      <td>0.761905</td>\n",
              "      <td>0.081703</td>\n",
              "      <td>0.721805</td>\n",
              "      <td>0.108737</td>\n",
              "      <td>0.172882</td>\n",
              "      <td>0.189934</td>\n",
              "    </tr>\n",
              "  </tbody>\n",
              "</table>\n",
              "<p>5 rows × 77 columns</p>\n",
              "</div>\n",
              "      <button class=\"colab-df-convert\" onclick=\"convertToInteractive('df-04ee18a6-8fd9-4364-aff0-907925d0fbce')\"\n",
              "              title=\"Convert this dataframe to an interactive table.\"\n",
              "              style=\"display:none;\">\n",
              "\n",
              "  <svg xmlns=\"http://www.w3.org/2000/svg\" height=\"24px\"viewBox=\"0 0 24 24\"\n",
              "       width=\"24px\">\n",
              "    <path d=\"M0 0h24v24H0V0z\" fill=\"none\"/>\n",
              "    <path d=\"M18.56 5.44l.94 2.06.94-2.06 2.06-.94-2.06-.94-.94-2.06-.94 2.06-2.06.94zm-11 1L8.5 8.5l.94-2.06 2.06-.94-2.06-.94L8.5 2.5l-.94 2.06-2.06.94zm10 10l.94 2.06.94-2.06 2.06-.94-2.06-.94-.94-2.06-.94 2.06-2.06.94z\"/><path d=\"M17.41 7.96l-1.37-1.37c-.4-.4-.92-.59-1.43-.59-.52 0-1.04.2-1.43.59L10.3 9.45l-7.72 7.72c-.78.78-.78 2.05 0 2.83L4 21.41c.39.39.9.59 1.41.59.51 0 1.02-.2 1.41-.59l7.78-7.78 2.81-2.81c.8-.78.8-2.07 0-2.86zM5.41 20L4 18.59l7.72-7.72 1.47 1.35L5.41 20z\"/>\n",
              "  </svg>\n",
              "      </button>\n",
              "\n",
              "\n",
              "\n",
              "    <div id=\"df-e386b69b-bf1c-4675-8c50-6d914df3b0e0\">\n",
              "      <button class=\"colab-df-quickchart\" onclick=\"quickchart('df-e386b69b-bf1c-4675-8c50-6d914df3b0e0')\"\n",
              "              title=\"Suggest charts.\"\n",
              "              style=\"display:none;\">\n",
              "\n",
              "<svg xmlns=\"http://www.w3.org/2000/svg\" height=\"24px\"viewBox=\"0 0 24 24\"\n",
              "     width=\"24px\">\n",
              "    <g>\n",
              "        <path d=\"M19 3H5c-1.1 0-2 .9-2 2v14c0 1.1.9 2 2 2h14c1.1 0 2-.9 2-2V5c0-1.1-.9-2-2-2zM9 17H7v-7h2v7zm4 0h-2V7h2v10zm4 0h-2v-4h2v4z\"/>\n",
              "    </g>\n",
              "</svg>\n",
              "      </button>\n",
              "    </div>\n",
              "\n",
              "<style>\n",
              "  .colab-df-quickchart {\n",
              "    background-color: #E8F0FE;\n",
              "    border: none;\n",
              "    border-radius: 50%;\n",
              "    cursor: pointer;\n",
              "    display: none;\n",
              "    fill: #1967D2;\n",
              "    height: 32px;\n",
              "    padding: 0 0 0 0;\n",
              "    width: 32px;\n",
              "  }\n",
              "\n",
              "  .colab-df-quickchart:hover {\n",
              "    background-color: #E2EBFA;\n",
              "    box-shadow: 0px 1px 2px rgba(60, 64, 67, 0.3), 0px 1px 3px 1px rgba(60, 64, 67, 0.15);\n",
              "    fill: #174EA6;\n",
              "  }\n",
              "\n",
              "  [theme=dark] .colab-df-quickchart {\n",
              "    background-color: #3B4455;\n",
              "    fill: #D2E3FC;\n",
              "  }\n",
              "\n",
              "  [theme=dark] .colab-df-quickchart:hover {\n",
              "    background-color: #434B5C;\n",
              "    box-shadow: 0px 1px 3px 1px rgba(0, 0, 0, 0.15);\n",
              "    filter: drop-shadow(0px 1px 2px rgba(0, 0, 0, 0.3));\n",
              "    fill: #FFFFFF;\n",
              "  }\n",
              "</style>\n",
              "\n",
              "    <script>\n",
              "      async function quickchart(key) {\n",
              "        const containerElement = document.querySelector('#' + key);\n",
              "        const charts = await google.colab.kernel.invokeFunction(\n",
              "            'suggestCharts', [key], {});\n",
              "      }\n",
              "    </script>\n",
              "\n",
              "      <script>\n",
              "\n",
              "function displayQuickchartButton(domScope) {\n",
              "  let quickchartButtonEl =\n",
              "    domScope.querySelector('#df-e386b69b-bf1c-4675-8c50-6d914df3b0e0 button.colab-df-quickchart');\n",
              "  quickchartButtonEl.style.display =\n",
              "    google.colab.kernel.accessAllowed ? 'block' : 'none';\n",
              "}\n",
              "\n",
              "        displayQuickchartButton(document);\n",
              "      </script>\n",
              "      <style>\n",
              "    .colab-df-container {\n",
              "      display:flex;\n",
              "      flex-wrap:wrap;\n",
              "      gap: 12px;\n",
              "    }\n",
              "\n",
              "    .colab-df-convert {\n",
              "      background-color: #E8F0FE;\n",
              "      border: none;\n",
              "      border-radius: 50%;\n",
              "      cursor: pointer;\n",
              "      display: none;\n",
              "      fill: #1967D2;\n",
              "      height: 32px;\n",
              "      padding: 0 0 0 0;\n",
              "      width: 32px;\n",
              "    }\n",
              "\n",
              "    .colab-df-convert:hover {\n",
              "      background-color: #E2EBFA;\n",
              "      box-shadow: 0px 1px 2px rgba(60, 64, 67, 0.3), 0px 1px 3px 1px rgba(60, 64, 67, 0.15);\n",
              "      fill: #174EA6;\n",
              "    }\n",
              "\n",
              "    [theme=dark] .colab-df-convert {\n",
              "      background-color: #3B4455;\n",
              "      fill: #D2E3FC;\n",
              "    }\n",
              "\n",
              "    [theme=dark] .colab-df-convert:hover {\n",
              "      background-color: #434B5C;\n",
              "      box-shadow: 0px 1px 3px 1px rgba(0, 0, 0, 0.15);\n",
              "      filter: drop-shadow(0px 1px 2px rgba(0, 0, 0, 0.3));\n",
              "      fill: #FFFFFF;\n",
              "    }\n",
              "  </style>\n",
              "\n",
              "      <script>\n",
              "        const buttonEl =\n",
              "          document.querySelector('#df-04ee18a6-8fd9-4364-aff0-907925d0fbce button.colab-df-convert');\n",
              "        buttonEl.style.display =\n",
              "          google.colab.kernel.accessAllowed ? 'block' : 'none';\n",
              "\n",
              "        async function convertToInteractive(key) {\n",
              "          const element = document.querySelector('#df-04ee18a6-8fd9-4364-aff0-907925d0fbce');\n",
              "          const dataTable =\n",
              "            await google.colab.kernel.invokeFunction('convertToInteractive',\n",
              "                                                     [key], {});\n",
              "          if (!dataTable) return;\n",
              "\n",
              "          const docLinkHtml = 'Like what you see? Visit the ' +\n",
              "            '<a target=\"_blank\" href=https://colab.research.google.com/notebooks/data_table.ipynb>data table notebook</a>'\n",
              "            + ' to learn more about interactive tables.';\n",
              "          element.innerHTML = '';\n",
              "          dataTable['output_type'] = 'display_data';\n",
              "          await google.colab.output.renderOutput(dataTable, element);\n",
              "          const docLink = document.createElement('div');\n",
              "          docLink.innerHTML = docLinkHtml;\n",
              "          element.appendChild(docLink);\n",
              "        }\n",
              "      </script>\n",
              "    </div>\n",
              "  </div>\n"
            ]
          },
          "metadata": {},
          "execution_count": 4
        }
      ]
    },
    {
      "cell_type": "code",
      "source": [
        "classe = musica.iloc[:,0:6].values\n",
        "previsores = musica.iloc[:,7:78].values\n",
        "classe"
      ],
      "metadata": {
        "colab": {
          "base_uri": "https://localhost:8080/"
        },
        "id": "FM7f9oqQT9NL",
        "outputId": "d1bf44b8-d13d-4a33-d36b-64f558af3e2f"
      },
      "execution_count": null,
      "outputs": [
        {
          "output_type": "execute_result",
          "data": {
            "text/plain": [
              "array([[0, 1, 1, 0, 0, 0],\n",
              "       [1, 0, 0, 0, 0, 1],\n",
              "       [0, 1, 0, 0, 0, 1],\n",
              "       ...,\n",
              "       [0, 0, 1, 1, 1, 0],\n",
              "       [0, 1, 1, 0, 0, 0],\n",
              "       [0, 1, 0, 0, 0, 0]])"
            ]
          },
          "metadata": {},
          "execution_count": 5
        }
      ]
    },
    {
      "cell_type": "code",
      "source": [
        "X_treinamento, X_teste, y_treinamento, y_teste = train_test_split(previsores, classe, test_size=0.3, random_state=0)\n",
        "\n",
        "#X_treinamento, X_teste, y_treinamento, y_teste = train_test_split(previsores,classe,test_size = 0.3, random_state = 0)"
      ],
      "metadata": {
        "id": "1SSqzZYmUaHu"
      },
      "execution_count": null,
      "outputs": []
    },
    {
      "cell_type": "code",
      "source": [
        "ann = MLARAM()\n",
        "ann.fit(X_treinamento, y_treinamento)"
      ],
      "metadata": {
        "id": "v-G4QQWGUraR",
        "colab": {
          "base_uri": "https://localhost:8080/",
          "height": 251
        },
        "outputId": "ecffe6e9-e0b0-46a5-d411-d0d0334e319e"
      },
      "execution_count": null,
      "outputs": [
        {
          "output_type": "execute_result",
          "data": {
            "text/plain": [
              "MLARAM(neurons=[<skmultilearn.adapt.mlaram.Neuron object at 0x7fba107abf70>,\n",
              "                <skmultilearn.adapt.mlaram.Neuron object at 0x7fba107abbe0>,\n",
              "                <skmultilearn.adapt.mlaram.Neuron object at 0x7fba107aaa10>,\n",
              "                <skmultilearn.adapt.mlaram.Neuron object at 0x7fba106381c0>,\n",
              "                <skmultilearn.adapt.mlaram.Neuron object at 0x7fba106380a0>,\n",
              "                <skmultilearn.adapt.mlaram.Neuron object at 0x7fba10...\n",
              "                <skmultilearn.adapt.mlaram.Neuron object at 0x7fba10638b50>,\n",
              "                <skmultilearn.adapt.mlaram.Neuron object at 0x7fba10638bb0>,\n",
              "                <skmultilearn.adapt.mlaram.Neuron object at 0x7fba10638c10>,\n",
              "                <skmultilearn.adapt.mlaram.Neuron object at 0x7fba10638ca0>,\n",
              "                <skmultilearn.adapt.mlaram.Neuron object at 0x7fba10638c70>,\n",
              "                <skmultilearn.adapt.mlaram.Neuron object at 0x7fba10638d30>,\n",
              "                <skmultilearn.adapt.mlaram.Neuron object at 0x7fba10638dc0>, ...])"
            ],
            "text/html": [
              "<style>#sk-container-id-1 {color: black;background-color: white;}#sk-container-id-1 pre{padding: 0;}#sk-container-id-1 div.sk-toggleable {background-color: white;}#sk-container-id-1 label.sk-toggleable__label {cursor: pointer;display: block;width: 100%;margin-bottom: 0;padding: 0.3em;box-sizing: border-box;text-align: center;}#sk-container-id-1 label.sk-toggleable__label-arrow:before {content: \"▸\";float: left;margin-right: 0.25em;color: #696969;}#sk-container-id-1 label.sk-toggleable__label-arrow:hover:before {color: black;}#sk-container-id-1 div.sk-estimator:hover label.sk-toggleable__label-arrow:before {color: black;}#sk-container-id-1 div.sk-toggleable__content {max-height: 0;max-width: 0;overflow: hidden;text-align: left;background-color: #f0f8ff;}#sk-container-id-1 div.sk-toggleable__content pre {margin: 0.2em;color: black;border-radius: 0.25em;background-color: #f0f8ff;}#sk-container-id-1 input.sk-toggleable__control:checked~div.sk-toggleable__content {max-height: 200px;max-width: 100%;overflow: auto;}#sk-container-id-1 input.sk-toggleable__control:checked~label.sk-toggleable__label-arrow:before {content: \"▾\";}#sk-container-id-1 div.sk-estimator input.sk-toggleable__control:checked~label.sk-toggleable__label {background-color: #d4ebff;}#sk-container-id-1 div.sk-label input.sk-toggleable__control:checked~label.sk-toggleable__label {background-color: #d4ebff;}#sk-container-id-1 input.sk-hidden--visually {border: 0;clip: rect(1px 1px 1px 1px);clip: rect(1px, 1px, 1px, 1px);height: 1px;margin: -1px;overflow: hidden;padding: 0;position: absolute;width: 1px;}#sk-container-id-1 div.sk-estimator {font-family: monospace;background-color: #f0f8ff;border: 1px dotted black;border-radius: 0.25em;box-sizing: border-box;margin-bottom: 0.5em;}#sk-container-id-1 div.sk-estimator:hover {background-color: #d4ebff;}#sk-container-id-1 div.sk-parallel-item::after {content: \"\";width: 100%;border-bottom: 1px solid gray;flex-grow: 1;}#sk-container-id-1 div.sk-label:hover label.sk-toggleable__label {background-color: #d4ebff;}#sk-container-id-1 div.sk-serial::before {content: \"\";position: absolute;border-left: 1px solid gray;box-sizing: border-box;top: 0;bottom: 0;left: 50%;z-index: 0;}#sk-container-id-1 div.sk-serial {display: flex;flex-direction: column;align-items: center;background-color: white;padding-right: 0.2em;padding-left: 0.2em;position: relative;}#sk-container-id-1 div.sk-item {position: relative;z-index: 1;}#sk-container-id-1 div.sk-parallel {display: flex;align-items: stretch;justify-content: center;background-color: white;position: relative;}#sk-container-id-1 div.sk-item::before, #sk-container-id-1 div.sk-parallel-item::before {content: \"\";position: absolute;border-left: 1px solid gray;box-sizing: border-box;top: 0;bottom: 0;left: 50%;z-index: -1;}#sk-container-id-1 div.sk-parallel-item {display: flex;flex-direction: column;z-index: 1;position: relative;background-color: white;}#sk-container-id-1 div.sk-parallel-item:first-child::after {align-self: flex-end;width: 50%;}#sk-container-id-1 div.sk-parallel-item:last-child::after {align-self: flex-start;width: 50%;}#sk-container-id-1 div.sk-parallel-item:only-child::after {width: 0;}#sk-container-id-1 div.sk-dashed-wrapped {border: 1px dashed gray;margin: 0 0.4em 0.5em 0.4em;box-sizing: border-box;padding-bottom: 0.4em;background-color: white;}#sk-container-id-1 div.sk-label label {font-family: monospace;font-weight: bold;display: inline-block;line-height: 1.2em;}#sk-container-id-1 div.sk-label-container {text-align: center;}#sk-container-id-1 div.sk-container {/* jupyter's `normalize.less` sets `[hidden] { display: none; }` but bootstrap.min.css set `[hidden] { display: none !important; }` so we also need the `!important` here to be able to override the default hidden behavior on the sphinx rendered scikit-learn.org. See: https://github.com/scikit-learn/scikit-learn/issues/21755 */display: inline-block !important;position: relative;}#sk-container-id-1 div.sk-text-repr-fallback {display: none;}</style><div id=\"sk-container-id-1\" class=\"sk-top-container\"><div class=\"sk-text-repr-fallback\"><pre>MLARAM(neurons=[&lt;skmultilearn.adapt.mlaram.Neuron object at 0x7fba107abf70&gt;,\n",
              "                &lt;skmultilearn.adapt.mlaram.Neuron object at 0x7fba107abbe0&gt;,\n",
              "                &lt;skmultilearn.adapt.mlaram.Neuron object at 0x7fba107aaa10&gt;,\n",
              "                &lt;skmultilearn.adapt.mlaram.Neuron object at 0x7fba106381c0&gt;,\n",
              "                &lt;skmultilearn.adapt.mlaram.Neuron object at 0x7fba106380a0&gt;,\n",
              "                &lt;skmultilearn.adapt.mlaram.Neuron object at 0x7fba10...\n",
              "                &lt;skmultilearn.adapt.mlaram.Neuron object at 0x7fba10638b50&gt;,\n",
              "                &lt;skmultilearn.adapt.mlaram.Neuron object at 0x7fba10638bb0&gt;,\n",
              "                &lt;skmultilearn.adapt.mlaram.Neuron object at 0x7fba10638c10&gt;,\n",
              "                &lt;skmultilearn.adapt.mlaram.Neuron object at 0x7fba10638ca0&gt;,\n",
              "                &lt;skmultilearn.adapt.mlaram.Neuron object at 0x7fba10638c70&gt;,\n",
              "                &lt;skmultilearn.adapt.mlaram.Neuron object at 0x7fba10638d30&gt;,\n",
              "                &lt;skmultilearn.adapt.mlaram.Neuron object at 0x7fba10638dc0&gt;, ...])</pre><b>In a Jupyter environment, please rerun this cell to show the HTML representation or trust the notebook. <br />On GitHub, the HTML representation is unable to render, please try loading this page with nbviewer.org.</b></div><div class=\"sk-container\" hidden><div class=\"sk-item\"><div class=\"sk-estimator sk-toggleable\"><input class=\"sk-toggleable__control sk-hidden--visually\" id=\"sk-estimator-id-1\" type=\"checkbox\" checked><label for=\"sk-estimator-id-1\" class=\"sk-toggleable__label sk-toggleable__label-arrow\">MLARAM</label><div class=\"sk-toggleable__content\"><pre>MLARAM(neurons=[&lt;skmultilearn.adapt.mlaram.Neuron object at 0x7fba107abf70&gt;,\n",
              "                &lt;skmultilearn.adapt.mlaram.Neuron object at 0x7fba107abbe0&gt;,\n",
              "                &lt;skmultilearn.adapt.mlaram.Neuron object at 0x7fba107aaa10&gt;,\n",
              "                &lt;skmultilearn.adapt.mlaram.Neuron object at 0x7fba106381c0&gt;,\n",
              "                &lt;skmultilearn.adapt.mlaram.Neuron object at 0x7fba106380a0&gt;,\n",
              "                &lt;skmultilearn.adapt.mlaram.Neuron object at 0x7fba10...\n",
              "                &lt;skmultilearn.adapt.mlaram.Neuron object at 0x7fba10638b50&gt;,\n",
              "                &lt;skmultilearn.adapt.mlaram.Neuron object at 0x7fba10638bb0&gt;,\n",
              "                &lt;skmultilearn.adapt.mlaram.Neuron object at 0x7fba10638c10&gt;,\n",
              "                &lt;skmultilearn.adapt.mlaram.Neuron object at 0x7fba10638ca0&gt;,\n",
              "                &lt;skmultilearn.adapt.mlaram.Neuron object at 0x7fba10638c70&gt;,\n",
              "                &lt;skmultilearn.adapt.mlaram.Neuron object at 0x7fba10638d30&gt;,\n",
              "                &lt;skmultilearn.adapt.mlaram.Neuron object at 0x7fba10638dc0&gt;, ...])</pre></div></div></div></div></div>"
            ]
          },
          "metadata": {},
          "execution_count": 7
        }
      ]
    },
    {
      "cell_type": "code",
      "source": [
        "previsto = ann.predict(X_teste)\n",
        "print(hamming_loss(y_teste,previsto))"
      ],
      "metadata": {
        "colab": {
          "base_uri": "https://localhost:8080/"
        },
        "id": "hfzqd_0NU97k",
        "outputId": "7185f5dd-26dd-43a4-9583-5275fc232c28"
      },
      "execution_count": null,
      "outputs": [
        {
          "output_type": "stream",
          "name": "stdout",
          "text": [
            "0.24906367041198502\n"
          ]
        }
      ]
    },
    {
      "cell_type": "code",
      "source": [
        "binary = BinaryRelevance(classifier=SVC())\n",
        "binary.fit(X_treinamento, y_treinamento)\n",
        "previsao = binary.predict(X_teste)\n",
        "print(hamming_loss(y_teste,previsao))"
      ],
      "metadata": {
        "colab": {
          "base_uri": "https://localhost:8080/"
        },
        "id": "GVndPTsGVIYF",
        "outputId": "c0408cb5-30c2-4e6f-b50e-da5fe364cab2"
      },
      "execution_count": null,
      "outputs": [
        {
          "output_type": "stream",
          "name": "stdout",
          "text": [
            "0.199438202247191\n"
          ]
        }
      ]
    },
    {
      "cell_type": "code",
      "source": [
        "chain = ClassifierChain(classifier=SVC())\n",
        "chain.fit(X_treinamento, y_treinamento)\n",
        "previsoes = chain.predict(X_teste)\n",
        "print(hamming_loss(y_teste,previsoes))"
      ],
      "metadata": {
        "colab": {
          "base_uri": "https://localhost:8080/"
        },
        "id": "4fRCybM4V9ec",
        "outputId": "bdecc2b7-0e2a-48a8-87cd-499304d69fe4"
      },
      "execution_count": null,
      "outputs": [
        {
          "output_type": "stream",
          "name": "stdout",
          "text": [
            "0.2340823970037453\n"
          ]
        }
      ]
    },
    {
      "cell_type": "code",
      "source": [
        "label = LabelPowerset(classifier = SVC())\n",
        "label.fit(X_treinamento, y_treinamento)\n",
        "previsoes = label.predict(X_teste)\n",
        "print(hamming_loss(y_teste, previsoes))"
      ],
      "metadata": {
        "colab": {
          "base_uri": "https://localhost:8080/"
        },
        "id": "aI8OXNOSWlnG",
        "outputId": "b26ef7cc-2b18-43a8-cade-fd3ce2b65911"
      },
      "execution_count": null,
      "outputs": [
        {
          "output_type": "stream",
          "name": "stdout",
          "text": [
            "0.2209737827715356\n"
          ]
        }
      ]
    },
    {
      "cell_type": "code",
      "source": [],
      "metadata": {
        "id": "7Lje8oKQXKiE"
      },
      "execution_count": null,
      "outputs": []
    }
  ]
}