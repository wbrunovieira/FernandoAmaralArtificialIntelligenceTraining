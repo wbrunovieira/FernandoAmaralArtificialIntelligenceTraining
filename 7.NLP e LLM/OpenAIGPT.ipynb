{
  "cells": [
    {
      "cell_type": "code",
      "execution_count": null,
      "metadata": {
        "id": "yymKO726xA7G"
      },
      "outputs": [],
      "source": [
        "!pip install openai"
      ]
    },
    {
      "cell_type": "code",
      "execution_count": 2,
      "metadata": {
        "id": "pStf_rcuyqpA"
      },
      "outputs": [],
      "source": [
        "from openai import OpenAI"
      ]
    },
    {
      "cell_type": "code",
      "execution_count": 3,
      "metadata": {
        "id": "5IlQ7xTDyxbw"
      },
      "outputs": [],
      "source": [
        "client = OpenAI(api_key=\"\")\n",
        "model = \"gpt-3.5-turbo\""
      ]
    },
    {
      "cell_type": "code",
      "execution_count": 4,
      "metadata": {
        "id": "3gmeqvEwzF1g"
      },
      "outputs": [],
      "source": [
        "response = client.chat.completions.create(\n",
        "    model = model,\n",
        "    messages = [\n",
        "        {\"role\":\"user\",\"content\":\"Tell me a Joke\"}\n",
        "    ]\n",
        ")"
      ]
    },
    {
      "cell_type": "code",
      "execution_count": 5,
      "metadata": {
        "colab": {
          "base_uri": "https://localhost:8080/"
        },
        "id": "4_KKbGZ50Gay",
        "outputId": "587f932a-4705-4c04-9237-c8b2072f9119"
      },
      "outputs": [
        {
          "name": "stdout",
          "output_type": "stream",
          "text": [
            "ChatCompletion(id='chatcmpl-8wEmhZSTL0q1gx7VSe3kQkVzAyPFR', choices=[Choice(finish_reason='stop', index=0, logprobs=None, message=ChatCompletionMessage(content=\"Why couldn't the bicycle stand up by itself?\\n\\nBecause it was two tired.\", role='assistant', function_call=None, tool_calls=None))], created=1708890547, model='gpt-3.5-turbo-0125', object='chat.completion', system_fingerprint='fp_86156a94a0', usage=CompletionUsage(completion_tokens=16, prompt_tokens=12, total_tokens=28))\n"
          ]
        }
      ],
      "source": [
        "print(response)"
      ]
    },
    {
      "cell_type": "code",
      "execution_count": 7,
      "metadata": {
        "colab": {
          "base_uri": "https://localhost:8080/"
        },
        "id": "Gjs_XZ8C0Iqk",
        "outputId": "35986399-c498-4461-f9b4-59c1da8cf998"
      },
      "outputs": [
        {
          "name": "stdout",
          "output_type": "stream",
          "text": [
            "Why couldn't the bicycle stand up by itself?\n",
            "\n",
            "Because it was two tired.\n"
          ]
        }
      ],
      "source": [
        "message = response.choices[0].message.content\n",
        "print(message)"
      ]
    },
    {
      "cell_type": "code",
      "execution_count": 9,
      "metadata": {
        "id": "zxG4C7hU0cY5"
      },
      "outputs": [],
      "source": [
        "response = client.chat.completions.create(\n",
        "    model = model,\n",
        "    messages = [\n",
        "        {\"role\":\"system\",\"content\":\"You are a fictional investment assistant.\"},\n",
        "        {\"role\":\"user\",\"content\":\"What is the best low-risk investment you recommend for this year?\"}\n",
        "    ]\n",
        ")"
      ]
    },
    {
      "cell_type": "code",
      "execution_count": 10,
      "metadata": {
        "colab": {
          "base_uri": "https://localhost:8080/"
        },
        "id": "C3LMaCdE1Rys",
        "outputId": "e4ac0431-46d1-4585-d683-02a4fcf8a029"
      },
      "outputs": [
        {
          "name": "stdout",
          "output_type": "stream",
          "text": [
            "For low-risk investments, I would recommend considering investing in:\n",
            "\n",
            "1. High-yield savings accounts or certificates of deposit (CDs): These are low-risk options that offer higher interest rates than traditional savings accounts. They are insured by the Federal Deposit Insurance Corporation (FDIC) up to certain limits.\n",
            "\n",
            "2. Treasury securities: U.S. Treasury securities, such as Treasury bills, notes, and bonds, are considered one of the safest investments because they are backed by the U.S. government. They offer a fixed rate of return and are considered very low-risk.\n",
            "\n",
            "3. Blue-chip stocks: Investing in well-established, financially stable companies with a history of consistent dividend payments can also be a lower-risk investment option compared to more volatile stocks.\n",
            "\n",
            "It's important to remember that while these options are generally considered low-risk, all investments carry some level of risk. It's important to assess your own risk tolerance and financial goals before making any investment decisions.\n"
          ]
        }
      ],
      "source": [
        "message = response.choices[0].message.content\n",
        "print(message)"
      ]
    },
    {
      "cell_type": "code",
      "execution_count": 11,
      "metadata": {
        "id": "dBrtmlOp1Y08"
      },
      "outputs": [],
      "source": [
        "response = client.chat.completions.create(\n",
        "    model = model,\n",
        "    messages = [\n",
        "        {\"role\":\"assistant\",\"content\":message},\n",
        "        {\"role\":\"user\",\"content\":\"What are the risks related to Treasury securities?\"}\n",
        "    ]\n",
        ")"
      ]
    },
    {
      "cell_type": "code",
      "execution_count": 12,
      "metadata": {
        "colab": {
          "base_uri": "https://localhost:8080/"
        },
        "id": "RXk5pZCU11_F",
        "outputId": "8b9ebdb7-07f7-4bb2-a49d-86dd74241a6d"
      },
      "outputs": [
        {
          "name": "stdout",
          "output_type": "stream",
          "text": [
            "While U.S. Treasury securities are generally considered safe investments, there are still some risks associated with them:\n",
            "\n",
            "1. Interest rate risk: Treasury securities are subject to interest rate risk. If interest rates increase after you purchase a Treasury security, the market value of the security may decrease. This is because newer securities with higher interest rates become more attractive to investors, causing the value of existing securities with lower rates to decline.\n",
            "\n",
            "2. Inflation risk: Treasury securities may not always keep up with inflation. If the rate of inflation exceeds the rate of return on the Treasury security, the purchasing power of your investment may decrease over time.\n",
            "\n",
            "3. Reinvestment risk: If you hold a Treasury security that pays interest periodically and interest rates have declined when that security matures, you may have to reinvest the principal at a lower rate. This can reduce the overall return on your investment.\n",
            "\n",
            "4. Credit risk: While U.S. Treasury securities are considered among the safest investments because they are backed by the full faith and credit of the U.S. government, there is still a small risk that the government may default on its obligations. This risk is generally considered very low compared to other investments.\n",
            "\n",
            "5. Liquidity risk: Treasury securities are generally considered highly liquid investments, meaning they can be easily bought or sold in the market. However, during times of market stress or instability, liquidity in the Treasury market can decrease, leading to potential difficulty in selling your securities at a fair price.\n",
            "\n",
            "Despite these risks, U.S. Treasury securities are still considered one of the safest investment options available due to the backing of the U.S. government. It's important to consider your investment objectives, risk tolerance, and time horizon before investing in Treasury securities or any other investment.\n"
          ]
        }
      ],
      "source": [
        "message = response.choices[0].message.content\n",
        "print(message)"
      ]
    },
    {
      "cell_type": "code",
      "execution_count": null,
      "metadata": {
        "id": "ufbs_KeQ15DH"
      },
      "outputs": [],
      "source": []
    }
  ],
  "metadata": {
    "colab": {
      "provenance": []
    },
    "kernelspec": {
      "display_name": "Python 3",
      "name": "python3"
    },
    "language_info": {
      "name": "python"
    }
  },
  "nbformat": 4,
  "nbformat_minor": 0
}
